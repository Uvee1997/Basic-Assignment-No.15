{
 "cells": [
  {
   "cell_type": "markdown",
   "id": "67194f74",
   "metadata": {},
   "source": [
    "1) How many seconds are in an hour? Use the interactive interpreter as a calculator and multiply the\n",
    "   number of seconds in a minute (60) by the number of minutes in an hour (also 60).\n",
    "sol. 60\n",
    "\n",
    ":- 60*60 = 3600"
   ]
  },
  {
   "cell_type": "markdown",
   "id": "93b7d26d",
   "metadata": {},
   "source": [
    "2) Assign the result from previous task (seconds in an hour) to a variable called second_per_hour.\n",
    "\n",
    ":- second_per_hour = 3600"
   ]
  },
  {
   "cell_type": "markdown",
   "id": "67ea3393",
   "metadata": {},
   "source": [
    "3) How many seconds do you think there are in a day? Make use of the variables seconds per hour\n",
    "   and minutes per hour.\n",
    "    \n",
    ":- seconds_per_hour = 86400    "
   ]
  },
  {
   "cell_type": "markdown",
   "id": "e9de5c70",
   "metadata": {},
   "source": [
    "4) Calculate seconds_per_day again,but this time save the result in variable second_per_day.\n",
    "\n",
    ":- second_per_day = second_per_day*24\n",
    "   second_per_day = 86400\n",
    "    "
   ]
  },
  {
   "cell_type": "markdown",
   "id": "867764b0",
   "metadata": {},
   "source": [
    "5) Divide seconds_per_day by seconds_per_hour. Use floating-point (/) division.\n",
    "\n",
    ":- second_per_day / second_per_hour = 24"
   ]
  },
  {
   "cell_type": "markdown",
   "id": "3e01c72f",
   "metadata": {},
   "source": [
    "6) Divide seconds_per_day by seconds_per_hour, using integer (//) division. Did this number agree \n",
    "   with the floating-point value from the previous question, aside from the final .0? \n",
    "    \n",
    ":- second_per_day // second_per_hour = 24    "
   ]
  },
  {
   "cell_type": "code",
   "execution_count": null,
   "id": "41b9b76c",
   "metadata": {},
   "outputs": [],
   "source": [
    "7) Write a generator, genPrimes, that returns the sequence of prime numbers on successive calls to\n",
    "   its next() method: 2, 3, 5, 7, 11,...\n",
    "        \n",
    ":- def genPrime():\n",
    "        prime = []\n",
    "        n = 2\n",
    "        last = n\n",
    "        \n",
    "        while True:\n",
    "            for i in primes:\n",
    "                if n % 1 == 0:\n",
    "                    n += 1\n",
    "                    break\n",
    "                    \n",
    "            else:\n",
    "                primes.append(n)\n",
    "                last = n\n",
    "                n += 1 \n",
    "                yield last\n",
    "                "
   ]
  }
 ],
 "metadata": {
  "kernelspec": {
   "display_name": "Python 3 (ipykernel)",
   "language": "python",
   "name": "python3"
  },
  "language_info": {
   "codemirror_mode": {
    "name": "ipython",
    "version": 3
   },
   "file_extension": ".py",
   "mimetype": "text/x-python",
   "name": "python",
   "nbconvert_exporter": "python",
   "pygments_lexer": "ipython3",
   "version": "3.9.7"
  }
 },
 "nbformat": 4,
 "nbformat_minor": 5
}
